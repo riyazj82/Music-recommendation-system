{
  "nbformat": 4,
  "nbformat_minor": 0,
  "metadata": {
    "colab": {
      "provenance": []
    },
    "kernelspec": {
      "name": "python3",
      "display_name": "Python 3"
    },
    "language_info": {
      "name": "python"
    }
  },
  "cells": [
    {
      "cell_type": "code",
      "execution_count": 11,
      "metadata": {
        "id": "M_yMkrdZK9ZB"
      },
      "outputs": [],
      "source": [
        "import requests\n",
        "import base64"
      ]
    },
    {
      "cell_type": "code",
      "source": [
        "CLIENT_ID='ff03030399434f89a1c6431c80cf1046'\n",
        "CLIENT_SECRET='0a4845b6187a40c682fb40ec07b97a1c'"
      ],
      "metadata": {
        "id": "ZFTEKBhALIXG"
      },
      "execution_count": 12,
      "outputs": []
    },
    {
      "cell_type": "code",
      "source": [
        "client_credentials=f\"{CLIENT_ID}:{CLIENT_SECRET}\"\n",
        "client_credentials_base64=base64.b64encode(client_credentials.encode())"
      ],
      "metadata": {
        "id": "nMj7IQMILndt"
      },
      "execution_count": 13,
      "outputs": []
    },
    {
      "cell_type": "code",
      "source": [
        "# Request the access token\n",
        "token_url = 'https://accounts.spotify.com/api/token'\n",
        "headers = {\n",
        "    'Authorization': f'Basic {client_credentials_base64.decode()}'\n",
        "}\n",
        "data = {\n",
        "    'grant_type': 'client_credentials'\n",
        "}\n",
        "response = requests.post(token_url, data=data, headers=headers)\n",
        "\n",
        "if response.status_code == 200:\n",
        "    access_token = response.json()['access_token']\n",
        "    print(\"Access token obtained successfully.\")\n",
        "else:\n",
        "    print(\"Error obtaining access token.\")\n",
        "    exit()"
      ],
      "metadata": {
        "id": "IABUq69mROh3",
        "outputId": "00c982bd-72ec-49b6-b0cc-ab8950e85345",
        "colab": {
          "base_uri": "https://localhost:8080/"
        }
      },
      "execution_count": 14,
      "outputs": [
        {
          "output_type": "stream",
          "name": "stdout",
          "text": [
            "Access token obtained successfully.\n"
          ]
        }
      ]
    },
    {
      "cell_type": "code",
      "source": [
        "pip install spotipy"
      ],
      "metadata": {
        "id": "UoSHO9MPYHfx",
        "outputId": "c46483ec-1ca8-4e48-df19-141611d47b6d",
        "colab": {
          "base_uri": "https://localhost:8080/"
        }
      },
      "execution_count": 15,
      "outputs": [
        {
          "output_type": "stream",
          "name": "stdout",
          "text": [
            "Requirement already satisfied: spotipy in /usr/local/lib/python3.10/dist-packages (2.23.0)\n",
            "Requirement already satisfied: redis>=3.5.3 in /usr/local/lib/python3.10/dist-packages (from spotipy) (5.0.1)\n",
            "Requirement already satisfied: requests>=2.25.0 in /usr/local/lib/python3.10/dist-packages (from spotipy) (2.31.0)\n",
            "Requirement already satisfied: six>=1.15.0 in /usr/local/lib/python3.10/dist-packages (from spotipy) (1.16.0)\n",
            "Requirement already satisfied: urllib3>=1.26.0 in /usr/local/lib/python3.10/dist-packages (from spotipy) (2.0.7)\n",
            "Requirement already satisfied: async-timeout>=4.0.2 in /usr/local/lib/python3.10/dist-packages (from redis>=3.5.3->spotipy) (4.0.3)\n",
            "Requirement already satisfied: charset-normalizer<4,>=2 in /usr/local/lib/python3.10/dist-packages (from requests>=2.25.0->spotipy) (3.3.2)\n",
            "Requirement already satisfied: idna<4,>=2.5 in /usr/local/lib/python3.10/dist-packages (from requests>=2.25.0->spotipy) (3.6)\n",
            "Requirement already satisfied: certifi>=2017.4.17 in /usr/local/lib/python3.10/dist-packages (from requests>=2.25.0->spotipy) (2023.11.17)\n"
          ]
        }
      ]
    },
    {
      "cell_type": "code",
      "source": [
        "import pandas as pd\n",
        "import spotipy\n",
        "from spotipy.oauth2 import SpotifyOAuth"
      ],
      "metadata": {
        "id": "_XhuBLZPVvSG"
      },
      "execution_count": 19,
      "outputs": []
    },
    {
      "cell_type": "code",
      "source": [
        "def get_trending_playlist_data(playlist_id,access_token):\n",
        "\n",
        "    # Set up Spotipy with the access token\n",
        "    sp = spotipy.Spotify(auth=access_token)\n",
        "\n",
        "    # Get the tracks from the playlist\n",
        "    playlist_tracks = sp.playlist_tracks(playlist_id, fields='items(track(id, name, artists, album(id, name)))')\n",
        "\n",
        "    # Extract relevant information and store in a list of dictionaries\n",
        "    music_data = []\n",
        "    for track_info in playlist_tracks['items']:\n",
        "        track = track_info['track']\n",
        "        track_name = track['name']\n",
        "        artists = ', '.join([artist['name'] for artist in track['artists']])\n",
        "        album_name = track['album']['name']\n",
        "        album_id = track['album']['id']\n",
        "        track_id = track['id']\n",
        "\n",
        "        # Get audio features for the track\n",
        "        audio_features = sp.audio_features(track_id)[0] if track_id != 'Not available' else None\n",
        "\n",
        "        # Get release date of the album\n",
        "        try:\n",
        "            album_info = sp.album(album_id) if album_id != 'Not available' else None\n",
        "            release_date = album_info['release_date'] if album_info else None\n",
        "        except:\n",
        "            release_date = None\n",
        "\n",
        "        # Get popularity of the track\n",
        "        try:\n",
        "            track_info = sp.track(track_id) if track_id != 'Not available' else None\n",
        "            popularity = track_info['popularity'] if track_info else None\n",
        "        except:\n",
        "            popularity = None\n",
        "\n",
        "        # Add additional track information to the track data\n",
        "        track_data = {\n",
        "            'Track Name': track_name,\n",
        "            'Artists': artists,\n",
        "            'Album Name': album_name,\n",
        "            'Album ID': album_id,\n",
        "            'Track ID': track_id,\n",
        "            'Popularity': popularity,\n",
        "            'Release Date': release_date,\n",
        "            'Duration (ms)': audio_features['duration_ms'] if audio_features else None,\n",
        "            'Explicit': track_info.get('explicit', None),\n",
        "            'External URLs': track_info.get('external_urls', {}).get('spotify', None),\n",
        "            'Danceability': audio_features['danceability'] if audio_features else None,\n",
        "            'Energy': audio_features['energy'] if audio_features else None,\n",
        "            'Key': audio_features['key'] if audio_features else None,\n",
        "            'Loudness': audio_features['loudness'] if audio_features else None,\n",
        "            'Mode': audio_features['mode'] if audio_features else None,\n",
        "            'Speechiness': audio_features['speechiness'] if audio_features else None,\n",
        "            'Acousticness': audio_features['acousticness'] if audio_features else None,\n",
        "            'Instrumentalness': audio_features['instrumentalness'] if audio_features else None,\n",
        "            'Liveness': audio_features['liveness'] if audio_features else None,\n",
        "            'Valence': audio_features['valence'] if audio_features else None,\n",
        "            'Tempo': audio_features['tempo'] if audio_features else None,\n",
        "            # Add more attributes as needed\n",
        "        }\n",
        "\n",
        "        music_data.append(track_data)\n",
        "\n",
        "    df = pd.DataFrame(music_data)\n",
        "    return df\n",
        "\n",
        "\n",
        "\n",
        "\n",
        "\n",
        "\n",
        ""
      ],
      "metadata": {
        "id": "Emu2nT8aX9Vx"
      },
      "execution_count": 22,
      "outputs": []
    },
    {
      "cell_type": "code",
      "source": [
        "playlist_id = '37i9dQZF1DX76Wlfdnj7AP'\n",
        "\n",
        "# Call the function to get the music data from the playlist and store it in a DataFrame\n",
        "music_df = get_trending_playlist_data(playlist_id, access_token)\n",
        "\n",
        "print(music_df)\n"
      ],
      "metadata": {
        "id": "DyC1OW0dAgPd",
        "outputId": "7be3d338-82f2-485e-aada-1740b68afa99",
        "colab": {
          "base_uri": "https://localhost:8080/"
        }
      },
      "execution_count": 24,
      "outputs": [
        {
          "output_type": "stream",
          "name": "stdout",
          "text": [
            "                     Track Name                      Artists  \\\n",
            "0                   Lovin On Me                  Jack Harlow   \n",
            "1                         Prada  cassö, RAYE, D-Block Europe   \n",
            "2                      fukumean                        Gunna   \n",
            "3               I'm Good (Blue)     David Guetta, Bebe Rexha   \n",
            "4            IDGAF (feat. Yeat)                  Drake, Yeat   \n",
            "..                          ...                          ...   \n",
            "95         Drugs From Amsterdam                        Mau P   \n",
            "96                         BOTH       Tiësto, 21 Savage, BIA   \n",
            "97  Another Love - Tiësto Remix            Tom Odell, Tiësto   \n",
            "98            MONEY ON THE DASH          Elley Duhé, Whethan   \n",
            "99                   In Ha Mood                    Ice Spice   \n",
            "\n",
            "                     Album Name                Album ID  \\\n",
            "0                   Lovin On Me  6VCO0fDBGbRW8mCEvV95af   \n",
            "1                         Prada  5MU0RmBSpoSxOPYBfcobDc   \n",
            "2              a Gift & a Curse  5qmZefgh78fN3jsyPPlvuw   \n",
            "3               I'm Good (Blue)  7M842DMhYVALrXsw3ty7B3   \n",
            "4              For All The Dogs  4czdORdCWP9umpbhFXK2fW   \n",
            "..                          ...                     ...   \n",
            "95         Drugs From Amsterdam  060SvgMzLKrNzpvVLK5gSo   \n",
            "96                         BOTH  4WithBxkUVDf6Xe0KbTOkL   \n",
            "97  Another Love (Tiësto Remix)  1QltVGlNGbK94CKgUsYZGa   \n",
            "98            MONEY ON THE DASH  1nlaLDMPSzXL8G5LPBDhwd   \n",
            "99                   In Ha Mood  0CQzO0dUktGpymhtvrIXqW   \n",
            "\n",
            "                  Track ID  Popularity Release Date  Duration (ms)  Explicit  \\\n",
            "0   4xhsWYTOGcal8zt0J161CU          99   2023-11-10         138411      True   \n",
            "1   59NraMJsLaMCVtwXTSia8i          94   2023-08-11         132359      True   \n",
            "2   4rXLjWdF2ZZpXCVTfWcshS          93   2023-06-16         125040      True   \n",
            "3   4uUG5RXrOk84mYEfFvj3cK          93   2022-08-26         175238      True   \n",
            "4   2YSzYUF3jWqb9YP9VXmpjE          92   2023-10-06         260111      True   \n",
            "..                     ...         ...          ...            ...       ...   \n",
            "95  0w7JPlp7eEQI2EKW3ayXrv          78   2022-09-16         235786     False   \n",
            "96  7mobUfp1aL8A6CdugCMWft          78   2023-08-29         188000     False   \n",
            "97  4Et6tUEO7biKxZEfJXpNj1          77   2022-05-13         185366     False   \n",
            "98  1p0jBDjxORjYNJyAphBRpE          77   2023-01-20         145667     False   \n",
            "99  0yUaLqhsVsguBpoOPL4cO7          77   2023-01-06         129362      True   \n",
            "\n",
            "                                        External URLs  ...  Energy  Key  \\\n",
            "0   https://open.spotify.com/track/4xhsWYTOGcal8zt...  ...   0.558    2   \n",
            "1   https://open.spotify.com/track/59NraMJsLaMCVtw...  ...   0.717    8   \n",
            "2   https://open.spotify.com/track/4rXLjWdF2ZZpXCV...  ...   0.622    1   \n",
            "3   https://open.spotify.com/track/4uUG5RXrOk84mYE...  ...   0.965    7   \n",
            "4   https://open.spotify.com/track/2YSzYUF3jWqb9YP...  ...   0.670    8   \n",
            "..                                                ...  ...     ...  ...   \n",
            "95  https://open.spotify.com/track/0w7JPlp7eEQI2EK...  ...   0.932    8   \n",
            "96  https://open.spotify.com/track/7mobUfp1aL8A6Cd...  ...   0.933    5   \n",
            "97  https://open.spotify.com/track/4Et6tUEO7biKxZE...  ...   0.764    4   \n",
            "98  https://open.spotify.com/track/1p0jBDjxORjYNJy...  ...   0.667    8   \n",
            "99  https://open.spotify.com/track/0yUaLqhsVsguBpo...  ...   0.740    0   \n",
            "\n",
            "    Loudness  Mode  Speechiness  Acousticness  Instrumentalness  Liveness  \\\n",
            "0     -4.911     1       0.0568       0.00260          0.000002    0.0937   \n",
            "1     -5.804     1       0.0375       0.00100          0.000002    0.1130   \n",
            "2     -6.747     0       0.0903       0.11900          0.000000    0.2850   \n",
            "3     -3.673     0       0.0343       0.00383          0.000007    0.3710   \n",
            "4     -8.399     1       0.2710       0.04640          0.000089    0.2050   \n",
            "..       ...   ...          ...           ...               ...       ...   \n",
            "95   -10.402     1       0.0513       0.03890          0.605000    0.0615   \n",
            "96    -3.099     0       0.0832       0.02520          0.000025    0.4930   \n",
            "97    -4.685     0       0.0737       0.08360          0.087100    0.1320   \n",
            "98    -7.126     1       0.0843       0.04390          0.000013    0.1790   \n",
            "99    -6.595     1       0.3360       0.69600          0.000007    0.2300   \n",
            "\n",
            "    Valence    Tempo  \n",
            "0     0.606  104.983  \n",
            "1     0.422  141.904  \n",
            "2     0.220  130.001  \n",
            "3     0.304  128.040  \n",
            "4     0.138  136.952  \n",
            "..      ...      ...  \n",
            "95    0.553  125.002  \n",
            "96    0.523  119.987  \n",
            "97    0.473  123.046  \n",
            "98    0.292  120.044  \n",
            "99    0.532  141.059  \n",
            "\n",
            "[100 rows x 21 columns]\n"
          ]
        }
      ]
    },
    {
      "cell_type": "code",
      "source": [
        "print(music_df.isnull().sum())"
      ],
      "metadata": {
        "id": "db6SBRWTL3a2",
        "outputId": "c419d8e9-096c-4223-aaeb-a55a2d7ff987",
        "colab": {
          "base_uri": "https://localhost:8080/"
        }
      },
      "execution_count": 25,
      "outputs": [
        {
          "output_type": "stream",
          "name": "stdout",
          "text": [
            "Track Name          0\n",
            "Artists             0\n",
            "Album Name          0\n",
            "Album ID            0\n",
            "Track ID            0\n",
            "Popularity          0\n",
            "Release Date        0\n",
            "Duration (ms)       0\n",
            "Explicit            0\n",
            "External URLs       0\n",
            "Danceability        0\n",
            "Energy              0\n",
            "Key                 0\n",
            "Loudness            0\n",
            "Mode                0\n",
            "Speechiness         0\n",
            "Acousticness        0\n",
            "Instrumentalness    0\n",
            "Liveness            0\n",
            "Valence             0\n",
            "Tempo               0\n",
            "dtype: int64\n"
          ]
        }
      ]
    },
    {
      "cell_type": "code",
      "source": [
        "import numpy as np\n",
        "from sklearn.model_selection import train_test_split\n",
        "from sklearn.preprocessing import MinMaxScaler\n",
        "from datetime import datetime\n",
        "from sklearn.metrics.pairwise import cosine_similarity"
      ],
      "metadata": {
        "id": "nkQawk3MN5d_"
      },
      "execution_count": 26,
      "outputs": []
    },
    {
      "cell_type": "code",
      "source": [
        "data=music_df"
      ],
      "metadata": {
        "id": "vTPXRsCWOb4A"
      },
      "execution_count": 27,
      "outputs": []
    },
    {
      "cell_type": "code",
      "source": [
        "# Function to calculate weighted popularity scores based on release date\n",
        "def calculate_weighted_popularity(release_date):\n",
        "    # Convert the release date to datetime object\n",
        "    release_date = datetime.strptime(release_date, '%Y-%m-%d')\n",
        "\n",
        "    # Calculate the time span between release date and today's date\n",
        "    time_span = datetime.now() - release_date\n",
        "\n",
        "    # Calculate the weighted popularity score based on time span (e.g., more recent releases have higher weight)\n",
        "    weight = 1 / (time_span.days + 1)\n",
        "    return weight"
      ],
      "metadata": {
        "id": "ixZaQNL5Oe8d"
      },
      "execution_count": 28,
      "outputs": []
    },
    {
      "cell_type": "code",
      "source": [
        "# Normalize the music features using Min-Max scaling\n",
        "scaler = MinMaxScaler()\n",
        "music_features = music_df[['Danceability', 'Energy', 'Key',\n",
        "                           'Loudness', 'Mode', 'Speechiness', 'Acousticness',\n",
        "                           'Instrumentalness', 'Liveness', 'Valence', 'Tempo']].values\n",
        "music_features_scaled = scaler.fit_transform(music_features)"
      ],
      "metadata": {
        "id": "mepS81QCSpmy"
      },
      "execution_count": 29,
      "outputs": []
    },
    {
      "cell_type": "code",
      "source": [
        "# a function to get content-based recommendations based on music features\n",
        "def content_based_recommendations(input_song_name, num_recommendations=5):\n",
        "    if input_song_name not in music_df['Track Name'].values:\n",
        "        print(f\"'{input_song_name}' not found in the dataset. Please enter a valid song name.\")\n",
        "        return\n",
        "\n",
        "    # Get the index of the input song in the music DataFrame\n",
        "    input_song_index = music_df[music_df['Track Name'] == input_song_name].index[0]\n",
        "\n",
        "    # Calculate the similarity scores based on music features (cosine similarity)\n",
        "    similarity_scores = cosine_similarity([music_features_scaled[input_song_index]], music_features_scaled)\n",
        "\n",
        "    # Get the indices of the most similar songs\n",
        "    similar_song_indices = similarity_scores.argsort()[0][::-1][1:num_recommendations + 1]\n",
        "\n",
        "    # Get the names of the most similar songs based on content-based filtering\n",
        "    content_based_recommendations = music_df.iloc[similar_song_indices][['Track Name', 'Artists', 'Album Name', 'Release Date', 'Popularity']]\n",
        "\n",
        "    return content_based_recommendations"
      ],
      "metadata": {
        "id": "NB-3ITNsTFN4"
      },
      "execution_count": 30,
      "outputs": []
    },
    {
      "cell_type": "code",
      "source": [
        "# a function to get hybrid recommendations based on weighted popularity\n",
        "def hybrid_recommendations(input_song_name, num_recommendations=5, alpha=0.5):\n",
        "    if input_song_name not in music_df['Track Name'].values:\n",
        "        print(f\"'{input_song_name}' not found in the dataset. Please enter a valid song name.\")\n",
        "        return\n",
        "\n",
        "    # Get content-based recommendations\n",
        "    content_based_rec = content_based_recommendations(input_song_name, num_recommendations)\n",
        "\n",
        "    # Get the popularity score of the input song\n",
        "    popularity_score = music_df.loc[music_df['Track Name'] == input_song_name, 'Popularity'].values[0]\n",
        "\n",
        "    # Calculate the weighted popularity score\n",
        "    weighted_popularity_score = popularity_score * calculate_weighted_popularity(music_df.loc[music_df['Track Name'] == input_song_name, 'Release Date'].values[0])\n",
        "\n",
        "    # Combine content-based and popularity-based recommendations based on weighted popularity\n",
        "    hybrid_recommendations = content_based_rec\n",
        "    hybrid_recommendations = hybrid_recommendations.append({\n",
        "        'Track Name': input_song_name,\n",
        "        'Artists': music_df.loc[music_df['Track Name'] == input_song_name, 'Artists'].values[0],\n",
        "        'Album Name': music_df.loc[music_df['Track Name'] == input_song_name, 'Album Name'].values[0],\n",
        "        'Release Date': music_df.loc[music_df['Track Name'] == input_song_name, 'Release Date'].values[0],\n",
        "        'Popularity': weighted_popularity_score\n",
        "    }, ignore_index=True)\n",
        "\n",
        "    # Sort the hybrid recommendations based on weighted popularity score\n",
        "    hybrid_recommendations = hybrid_recommendations.sort_values(by='Popularity', ascending=False)\n",
        "\n",
        "    # Remove the input song from the recommendations\n",
        "    hybrid_recommendations = hybrid_recommendations[hybrid_recommendations['Track Name'] != input_song_name]\n",
        "\n",
        "\n",
        "    return hybrid_recommendations"
      ],
      "metadata": {
        "id": "fpT9PW5DVeAt"
      },
      "execution_count": 31,
      "outputs": []
    },
    {
      "cell_type": "code",
      "source": [
        "input_song_name = \"I'm Good (Blue)\"\n",
        "recommendations = hybrid_recommendations(input_song_name, num_recommendations=5)\n",
        "print(f\"Hybrid recommended songs for '{input_song_name}':\")\n",
        "print(recommendations)"
      ],
      "metadata": {
        "id": "HWd-sh2wXjmf",
        "outputId": "0969f8b4-d2b8-4322-d3a9-4f4f58db7fdd",
        "colab": {
          "base_uri": "https://localhost:8080/"
        }
      },
      "execution_count": 32,
      "outputs": [
        {
          "output_type": "stream",
          "name": "stdout",
          "text": [
            "Hybrid recommended songs for 'I'm Good (Blue)':\n",
            "                   Track Name                                     Artists  \\\n",
            "3  FE!N (feat. Playboi Carti)                 Travis Scott, Playboi Carti   \n",
            "4                Call It Love                     Felix Jaehn, Ray Dalton   \n",
            "1                       REACT  Switch Disco, Ella Henderson, Robert Miles   \n",
            "2               Where You Are                          John Summit, Hayla   \n",
            "0                        BOTH                      Tiësto, 21 Savage, BIA   \n",
            "\n",
            "      Album Name Release Date  Popularity  \n",
            "3         UTOPIA   2023-07-28        91.0  \n",
            "4   Call It Love   2022-09-16        82.0  \n",
            "1          REACT   2023-01-13        79.0  \n",
            "2  Where You Are   2023-03-03        79.0  \n",
            "0           BOTH   2023-08-29        78.0  \n"
          ]
        },
        {
          "output_type": "stream",
          "name": "stderr",
          "text": [
            "<ipython-input-31-3de633f34e34>:18: FutureWarning: The frame.append method is deprecated and will be removed from pandas in a future version. Use pandas.concat instead.\n",
            "  hybrid_recommendations = hybrid_recommendations.append({\n"
          ]
        }
      ]
    },
    {
      "cell_type": "code",
      "source": [],
      "metadata": {
        "id": "qr4GL4J5a40W"
      },
      "execution_count": null,
      "outputs": []
    }
  ]
}